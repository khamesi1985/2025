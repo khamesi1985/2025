{
  "nbformat": 4,
  "nbformat_minor": 0,
  "metadata": {
    "colab": {
      "provenance": [],
      "authorship_tag": "ABX9TyNY0ZZBgYIOLrbJzD3BK/u1",
      "include_colab_link": true
    },
    "kernelspec": {
      "name": "python3",
      "display_name": "Python 3"
    },
    "language_info": {
      "name": "python"
    }
  },
  "cells": [
    {
      "cell_type": "markdown",
      "metadata": {
        "id": "view-in-github",
        "colab_type": "text"
      },
      "source": [
        "<a href=\"https://colab.research.google.com/github/khamesi1985/2025/blob/main/ANN_for_WDBC.ipynb\" target=\"_parent\"><img src=\"https://colab.research.google.com/assets/colab-badge.svg\" alt=\"Open In Colab\"/></a>"
      ]
    },
    {
      "cell_type": "code",
      "execution_count": 6,
      "metadata": {
        "colab": {
          "base_uri": "https://localhost:8080/"
        },
        "id": "-Dh6kT_SdpIT",
        "outputId": "dc849eb0-5f24-4564-f575-5c121f025ec9"
      },
      "outputs": [
        {
          "output_type": "stream",
          "name": "stdout",
          "text": [
            "ARTIFICIAL NEURAL NETWORK-ANN CLASSIFIER\n",
            "Train Data Evaluate via Cross Validation by ANN :\n",
            "Accuracy Scores for Each Fold By ANN : [0.98347107 0.96694215 0.99173554 0.96666667]\n",
            "Mean Accuracy score by ANN : 0.977204\n",
            "              precision    recall  f1-score   support\n",
            "\n",
            "           B       1.00      1.00      1.00       303\n",
            "           M       1.00      0.99      1.00       180\n",
            "\n",
            "    accuracy                           1.00       483\n",
            "   macro avg       1.00      1.00      1.00       483\n",
            "weighted avg       1.00      1.00      1.00       483\n",
            "\n",
            "Test Data Evaluate by ANN :\n",
            "Accuracy On Test Data by ANN =  0.9767441860465116\n",
            "Precision On Test Data by ANN =  1.0\n",
            "Recall On Test Data by ANN =  0.9375\n",
            "F1-Score On Test Data by ANN =  0.967741935483871\n",
            "TP On Test Data by ANN =  30\n",
            "TN On Test Data by ANN =  54\n",
            "FP On Test Data by ANN =  0\n",
            "FN On Test Data by ANN =  2\n",
            "              precision    recall  f1-score   support\n",
            "\n",
            "           B       0.96      1.00      0.98        54\n",
            "           M       1.00      0.94      0.97        32\n",
            "\n",
            "    accuracy                           0.98        86\n",
            "   macro avg       0.98      0.97      0.97        86\n",
            "weighted avg       0.98      0.98      0.98        86\n",
            "\n",
            "-------------------------------------------------------\n"
          ]
        }
      ],
      "source": [
        "import pandas as pd\n",
        "import numpy as np\n",
        "from sklearn.preprocessing import LabelEncoder, StandardScaler\n",
        "from sklearn.model_selection import train_test_split, cross_val_score\n",
        "from sklearn.neural_network import MLPClassifier\n",
        "from sklearn.metrics import accuracy_score, precision_score, recall_score, f1_score, classification_report\n",
        "\n",
        "# بارگذاری داده‌ها\n",
        "url = \"https://raw.githubusercontent.com/khamesi1985/2025/main/wdbc.data\"\n",
        "data = pd.read_csv(url, header=None)\n",
        "data = data.dropna()\n",
        "X = data.iloc[:, 2:32]\n",
        "Pre_Y = data.iloc[:, 1]\n",
        "make_bin = LabelEncoder()\n",
        "make_bin.fit(Pre_Y)\n",
        "Y = make_bin.transform(Pre_Y)\n",
        "\n",
        "# تقسیم داده‌ها به آموزش و آزمون\n",
        "X_train, X_test, Y_train, Y_test = train_test_split(X, Y, test_size=0.15, random_state=42)\n",
        "\n",
        "# استاندارد سازی داده ها\n",
        "scaler = StandardScaler()\n",
        "scaler.fit(X_train)\n",
        "X_train_scaled = scaler.transform(X_train)\n",
        "X_test_scaled = scaler.transform(X_test)\n",
        "\n",
        "# پیاده سازی مدل\n",
        "model = MLPClassifier(max_iter=700, random_state=42)\n",
        "scores = cross_val_score(model, X_train_scaled, Y_train, cv=4, scoring='accuracy')\n",
        "model.fit(X_train_scaled, Y_train)\n",
        "Y_pred_train = model.predict(X_train_scaled)\n",
        "Y_pred_test = model.predict(X_test_scaled)\n",
        "\n",
        "# محاسبه دقت مدل\n",
        "accuracy_test = accuracy_score(Y_test, Y_pred_test)\n",
        "precision_test = precision_score(Y_test, Y_pred_test)\n",
        "recall_test = recall_score(Y_test, Y_pred_test)\n",
        "f1_score_test = f1_score(Y_test, Y_pred_test)\n",
        "print(\"ARTIFICIAL NEURAL NETWORK-ANN CLASSIFIER\")\n",
        "print(\"Train Data Evaluate via Cross Validation by ANN :\")\n",
        "print(f\"Accuracy Scores for Each Fold By ANN : {scores}\")\n",
        "print(f\"Mean Accuracy score by ANN : {np.mean(scores):.6f}\")\n",
        "print(classification_report(Y_train, Y_pred_train, target_names=make_bin.classes_))\n",
        "print(\"Test Data Evaluate by ANN :\")\n",
        "print(\"Accuracy On Test Data by ANN = \", accuracy_test)\n",
        "print(\"Precision On Test Data by ANN = \", precision_test)\n",
        "print(\"Recall On Test Data by ANN = \", recall_test)\n",
        "print(\"F1-Score On Test Data by ANN = \", f1_score_test)\n",
        "len_test = len(Y_test)\n",
        "TN = TP = FN = FP = 0\n",
        "for i in range (len_test):\n",
        "  if Y_test[i] == 0 and Y_pred_test[i] == 1:\n",
        "    FP = FP + 1\n",
        "  elif Y_test[i] == 1 and Y_pred_test[i] == 0:\n",
        "    FN = FN + 1\n",
        "  elif Y_test[i] == 1 and Y_pred_test[i] == 1:\n",
        "    TP = TP + 1\n",
        "  elif Y_test[i] == 0 and Y_pred_test[i] == 0:\n",
        "    TN = TN + 1\n",
        "print(\"TP On Test Data by ANN = \", TP)\n",
        "print(\"TN On Test Data by ANN = \", TN)\n",
        "print(\"FP On Test Data by ANN = \", FP)\n",
        "print(\"FN On Test Data by ANN = \", FN)\n",
        "print(classification_report(Y_test, Y_pred_test, target_names=make_bin.classes_))\n",
        "print(\"-\"*55)"
      ]
    }
  ]
}