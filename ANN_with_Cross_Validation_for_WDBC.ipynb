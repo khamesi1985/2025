{
  "nbformat": 4,
  "nbformat_minor": 0,
  "metadata": {
    "colab": {
      "provenance": [],
      "authorship_tag": "ABX9TyP40g+ChUEQ+4kGMwrtoJ5+",
      "include_colab_link": true
    },
    "kernelspec": {
      "name": "python3",
      "display_name": "Python 3"
    },
    "language_info": {
      "name": "python"
    }
  },
  "cells": [
    {
      "cell_type": "markdown",
      "metadata": {
        "id": "view-in-github",
        "colab_type": "text"
      },
      "source": [
        "<a href=\"https://colab.research.google.com/github/khamesi1985/2025/blob/main/ANN_with_Cross_Validation_for_WDBC.ipynb\" target=\"_parent\"><img src=\"https://colab.research.google.com/assets/colab-badge.svg\" alt=\"Open In Colab\"/></a>"
      ]
    },
    {
      "cell_type": "code",
      "execution_count": 1,
      "metadata": {
        "id": "-Dh6kT_SdpIT",
        "colab": {
          "base_uri": "https://localhost:8080/"
        },
        "outputId": "883a8c6a-9500-4743-d189-21e31251c25b"
      },
      "outputs": [
        {
          "output_type": "stream",
          "name": "stdout",
          "text": [
            "Best Parameters from Grid Search:  {'activation': 'relu', 'hidden_layer_sizes': (90,), 'max_iter': 500}\n",
            "ARTIFICIAL NEURAL NETWORK-ANN CLASSIFIER\n",
            "Train Data Evaluate via Cross Validation by ANN :\n",
            "Mean F1-score by ANN : 0.9585\n",
            "              precision    recall  f1-score   support\n",
            "\n",
            "           B       0.97      0.99      0.98       303\n",
            "           M       0.98      0.94      0.96       180\n",
            "\n",
            "    accuracy                           0.97       483\n",
            "   macro avg       0.97      0.97      0.97       483\n",
            "weighted avg       0.97      0.97      0.97       483\n",
            "\n",
            "Test Data Evaluate by ANN :\n",
            "Accuracy On Test Data by ANN = 0.9535\n",
            "Precision On Test Data by ANN = 0.9375\n",
            "Recall On Test Data by ANN = 0.9375\n",
            "F1-Score On Test Data by ANN = 0.9375\n",
            "TP On Test Data by ANN =  30\n",
            "TN On Test Data by ANN =  52\n",
            "FP On Test Data by ANN =  2\n",
            "FN On Test Data by ANN =  2\n",
            "              precision    recall  f1-score   support\n",
            "\n",
            "           B       0.96      0.96      0.96        54\n",
            "           M       0.94      0.94      0.94        32\n",
            "\n",
            "    accuracy                           0.95        86\n",
            "   macro avg       0.95      0.95      0.95        86\n",
            "weighted avg       0.95      0.95      0.95        86\n",
            "\n",
            "-------------------------------------------------------\n"
          ]
        }
      ],
      "source": [
        "import pandas as pd\n",
        "import numpy as np\n",
        "from sklearn.preprocessing import LabelEncoder, StandardScaler\n",
        "from sklearn.model_selection import train_test_split, GridSearchCV\n",
        "from sklearn.neural_network import MLPClassifier\n",
        "from sklearn.metrics import accuracy_score, precision_score, recall_score, f1_score, classification_report\n",
        "\n",
        "# بارگذاری داده‌ها\n",
        "url = \"https://raw.githubusercontent.com/khamesi1985/2025/main/wdbc.data\"\n",
        "data = pd.read_csv(url, header=None)\n",
        "data = data.dropna()\n",
        "X = data.iloc[:, 2:32]\n",
        "Pre_Y = data.iloc[:, 1]\n",
        "make_bin = LabelEncoder()\n",
        "make_bin.fit(Pre_Y)\n",
        "Y = make_bin.transform(Pre_Y)\n",
        "\n",
        "# تقسیم داده‌ها به آموزش و آزمون\n",
        "X_train, X_test, Y_train, Y_test = train_test_split(X, Y, test_size=0.15, random_state=42)\n",
        "\n",
        "# استاندارد سازی داده ها\n",
        "scaler = StandardScaler()\n",
        "scaler.fit(X_train)\n",
        "X_train_scaled = scaler.transform(X_train)\n",
        "X_test_scaled = scaler.transform(X_test)\n",
        "\n",
        "# پیاده سازی مدل\n",
        "model = MLPClassifier(random_state=42, early_stopping=True)\n",
        "param_grid = {\n",
        "    'hidden_layer_sizes': [(s,) for s in [10, 20, 30, 40, 50, 60, 70, 80, 90, 100]],\n",
        "    'activation': ['identity', 'logistic', 'tanh', 'relu'],\n",
        "    'max_iter': [500, 600, 700, 800, 900, 1000]\n",
        "}\n",
        "grid_search = GridSearchCV(estimator=model, param_grid=param_grid, cv=5, scoring='f1_weighted', n_jobs=-1)\n",
        "grid_search.fit(X_train_scaled, Y_train)\n",
        "print(\"Best Parameters from Grid Search: \", grid_search.best_params_)\n",
        "best_model = grid_search.best_estimator_\n",
        "Y_pred_train = best_model.predict(X_train_scaled)\n",
        "Y_pred_test = best_model.predict(X_test_scaled)\n",
        "\n",
        "# محاسبه دقت مدل\n",
        "accuracy_test = accuracy_score(Y_test, Y_pred_test)\n",
        "precision_test = precision_score(Y_test, Y_pred_test)\n",
        "recall_test = recall_score(Y_test, Y_pred_test)\n",
        "f1_score_test = f1_score(Y_test, Y_pred_test)\n",
        "print(\"ARTIFICIAL NEURAL NETWORK-ANN CLASSIFIER\")\n",
        "print(\"Train Data Evaluate via Cross Validation by ANN :\")\n",
        "print(f\"Mean F1-score by ANN : {grid_search.best_score_:.4f}\")\n",
        "print(classification_report(Y_train, Y_pred_train, target_names=make_bin.classes_))\n",
        "print(\"Test Data Evaluate by ANN :\")\n",
        "print(f\"Accuracy On Test Data by ANN = {accuracy_test:.4f}\")\n",
        "print(f\"Precision On Test Data by ANN = {precision_test:.4f}\")\n",
        "print(f\"Recall On Test Data by ANN = {recall_test:.4f}\")\n",
        "print(f\"F1-Score On Test Data by ANN = {f1_score_test:.4f}\")\n",
        "len_test = len(Y_test)\n",
        "TN = TP = FN = FP = 0\n",
        "for i in range (len_test):\n",
        "  if Y_test[i] == 0 and Y_pred_test[i] == 1:\n",
        "    FP = FP + 1\n",
        "  elif Y_test[i] == 1 and Y_pred_test[i] == 0:\n",
        "    FN = FN + 1\n",
        "  elif Y_test[i] == 1 and Y_pred_test[i] == 1:\n",
        "    TP = TP + 1\n",
        "  elif Y_test[i] == 0 and Y_pred_test[i] == 0:\n",
        "    TN = TN + 1\n",
        "print(\"TP On Test Data by ANN = \", TP)\n",
        "print(\"TN On Test Data by ANN = \", TN)\n",
        "print(\"FP On Test Data by ANN = \", FP)\n",
        "print(\"FN On Test Data by ANN = \", FN)\n",
        "print(classification_report(Y_test, Y_pred_test, target_names=make_bin.classes_))\n",
        "print(\"-\"*55)"
      ]
    }
  ]
}