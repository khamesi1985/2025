{
  "nbformat": 4,
  "nbformat_minor": 0,
  "metadata": {
    "colab": {
      "provenance": [],
      "authorship_tag": "ABX9TyPHISFXzF00kVL1IoN+0dYr",
      "include_colab_link": true
    },
    "kernelspec": {
      "name": "python3",
      "display_name": "Python 3"
    },
    "language_info": {
      "name": "python"
    }
  },
  "cells": [
    {
      "cell_type": "markdown",
      "metadata": {
        "id": "view-in-github",
        "colab_type": "text"
      },
      "source": [
        "<a href=\"https://colab.research.google.com/github/khamesi1985/2025/blob/main/DT_for_WDBC.ipynb\" target=\"_parent\"><img src=\"https://colab.research.google.com/assets/colab-badge.svg\" alt=\"Open In Colab\"/></a>"
      ]
    },
    {
      "cell_type": "code",
      "execution_count": 7,
      "metadata": {
        "colab": {
          "base_uri": "https://localhost:8080/"
        },
        "id": "-Dh6kT_SdpIT",
        "outputId": "53df709e-db09-451b-8441-d4d8d4be7020"
      },
      "outputs": [
        {
          "output_type": "stream",
          "name": "stdout",
          "text": [
            "Accuracy On Train Data =  0.9585921325051759\n",
            "              precision    recall  f1-score   support\n",
            "\n",
            "           B       0.98      0.95      0.97       303\n",
            "           M       0.93      0.97      0.95       180\n",
            "\n",
            "    accuracy                           0.96       483\n",
            "   macro avg       0.95      0.96      0.96       483\n",
            "weighted avg       0.96      0.96      0.96       483\n",
            "\n",
            "TP On Train Data =  174\n",
            "TN On Train Data =  289\n",
            "FP On Train Data =  14\n",
            "FN On Train Data =  6\n",
            "Accuracy On Test Data =  0.9302325581395349\n",
            "              precision    recall  f1-score   support\n",
            "\n",
            "           B       0.96      0.93      0.94        54\n",
            "           M       0.88      0.94      0.91        32\n",
            "\n",
            "    accuracy                           0.93        86\n",
            "   macro avg       0.92      0.93      0.93        86\n",
            "weighted avg       0.93      0.93      0.93        86\n",
            "\n",
            "TP On Test Data =  30\n",
            "TN On Test Data =  50\n",
            "FP On Test Data =  4\n",
            "FN On Test Data =  2\n"
          ]
        }
      ],
      "source": [
        "import pandas as pd\n",
        "from sklearn.preprocessing import LabelEncoder, StandardScaler\n",
        "from sklearn.model_selection import train_test_split\n",
        "from sklearn import tree\n",
        "from sklearn.metrics import accuracy_score, classification_report\n",
        "\n",
        "# بارگذاری داده‌ها\n",
        "url = \"https://raw.githubusercontent.com/khamesi1985/2025/main/wdbc.data\"\n",
        "data = pd.read_csv(url, header=None)\n",
        "X = data.iloc[:, 2:32]\n",
        "Pre_Y = data.iloc[:, 1]\n",
        "make_bin = LabelEncoder()\n",
        "Y = make_bin.fit_transform(Pre_Y)\n",
        "\n",
        "# تقسیم داده‌ها به آموزش و آزمون\n",
        "X_train, X_test, Y_train, Y_test = train_test_split(X, Y, test_size=0.15, random_state=42)\n",
        "\n",
        "# استاندارد سازی داده ها\n",
        "scaler = StandardScaler()\n",
        "scaler.fit(X_train)\n",
        "X_train_scaled = scaler.transform(X_train)\n",
        "X_test_scaled = scaler.transform(X_test)\n",
        "\n",
        "# پیاده سازی مدل\n",
        "model = tree.DecisionTreeClassifier(max_depth=4, min_samples_split=10, min_samples_leaf=5, random_state=42, class_weight='balanced')\n",
        "model.fit(X_train_scaled, Y_train)\n",
        "Y_pred_train = model.predict(X_train_scaled)\n",
        "Y_pred_test = model.predict(X_test_scaled)\n",
        "\n",
        "# محاسبه دقت مدل\n",
        "accuracy_train = accuracy_score(Y_train, Y_pred_train)\n",
        "accuracy_test = accuracy_score(Y_test, Y_pred_test)\n",
        "print(\"Accuracy On Train Data = \", accuracy_train)\n",
        "print(classification_report(Y_train, Y_pred_train, target_names=make_bin.classes_))\n",
        "len_train = len(Y_train)\n",
        "TN = TP = FN = FP = 0\n",
        "for i in range (len_train):\n",
        "  if Y_train[i] == 0 and Y_pred_train[i] == 1:\n",
        "    FP = FP + 1\n",
        "  elif Y_train[i] == 1 and Y_pred_train[i] == 0:\n",
        "    FN = FN + 1\n",
        "  elif Y_train[i] == 1 and Y_pred_train[i] == 1:\n",
        "    TP = TP + 1\n",
        "  elif Y_train[i] == 0 and Y_pred_train[i] == 0:\n",
        "    TN = TN + 1\n",
        "print(\"TP On Train Data = \", TP)\n",
        "print(\"TN On Train Data = \", TN)\n",
        "print(\"FP On Train Data = \", FP)\n",
        "print(\"FN On Train Data = \", FN)\n",
        "print(\"Accuracy On Test Data = \", accuracy_test)\n",
        "print(classification_report(Y_test, Y_pred_test, target_names=make_bin.classes_))\n",
        "len_test = len(Y_test)\n",
        "TN = TP = FN = FP = 0\n",
        "for i in range (len_test):\n",
        "  if Y_test[i] == 0 and Y_pred_test[i] == 1:\n",
        "    FP = FP + 1\n",
        "  elif Y_test[i] == 1 and Y_pred_test[i] == 0:\n",
        "    FN = FN + 1\n",
        "  elif Y_test[i] == 1 and Y_pred_test[i] == 1:\n",
        "    TP = TP + 1\n",
        "  elif Y_test[i] == 0 and Y_pred_test[i] == 0:\n",
        "    TN = TN + 1\n",
        "print(\"TP On Test Data = \", TP)\n",
        "print(\"TN On Test Data = \", TN)\n",
        "print(\"FP On Test Data = \", FP)\n",
        "print(\"FN On Test Data = \", FN)"
      ]
    }
  ]
}