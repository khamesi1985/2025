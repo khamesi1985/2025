{
  "nbformat": 4,
  "nbformat_minor": 0,
  "metadata": {
    "colab": {
      "provenance": [],
      "toc_visible": true,
      "authorship_tag": "ABX9TyOrzQIuOetjlnoznKswh1Tv",
      "include_colab_link": true
    },
    "kernelspec": {
      "name": "python3",
      "display_name": "Python 3"
    },
    "language_info": {
      "name": "python"
    }
  },
  "cells": [
    {
      "cell_type": "markdown",
      "metadata": {
        "id": "view-in-github",
        "colab_type": "text"
      },
      "source": [
        "<a href=\"https://colab.research.google.com/github/khamesi1985/2025/blob/main/SVM_for_WDBC.ipynb\" target=\"_parent\"><img src=\"https://colab.research.google.com/assets/colab-badge.svg\" alt=\"Open In Colab\"/></a>"
      ]
    },
    {
      "cell_type": "code",
      "execution_count": 50,
      "metadata": {
        "colab": {
          "base_uri": "https://localhost:8080/"
        },
        "id": "h4kGXNK91cC1",
        "outputId": "0565631b-ac4c-42ce-84a5-1f909cbd4cab"
      },
      "outputs": [
        {
          "output_type": "stream",
          "name": "stdout",
          "text": [
            "Accuracy=  0.9418604651162791\n",
            "              precision    recall  f1-score   support\n",
            "\n",
            "           B       0.92      1.00      0.96        54\n",
            "           M       1.00      0.84      0.92        32\n",
            "\n",
            "    accuracy                           0.94        86\n",
            "   macro avg       0.96      0.92      0.94        86\n",
            "weighted avg       0.95      0.94      0.94        86\n",
            "\n",
            "TP=  27\n",
            "TN=  54\n",
            "FP=  0\n",
            "FN=  5\n"
          ]
        }
      ],
      "source": [
        "import pandas as pd\n",
        "from sklearn.preprocessing import LabelEncoder\n",
        "from sklearn.model_selection import train_test_split\n",
        "from sklearn.svm import SVC\n",
        "from sklearn.metrics import accuracy_score, classification_report, confusion_matrix\n",
        "\n",
        "# بارگذاری داده‌ها\n",
        "url = \"https://raw.githubusercontent.com/khamesi1985/2025/main/wdbc.data\"\n",
        "data = pd.read_csv(url, header=None)\n",
        "X = data.iloc[:, 2:32]\n",
        "PreY = data.iloc[:, 1]\n",
        "le = LabelEncoder()\n",
        "Y = le.fit_transform(PreY)\n",
        "\n",
        "# تقسیم داده‌ها به آموزش و آزمون\n",
        "X_train, X_test, Y_train, Y_test = train_test_split(X, Y, test_size=0.15, random_state=42)\n",
        "\n",
        "# محاسبه دقت مدل\n",
        "model = SVC(kernel='rbf')\n",
        "model.fit(X_train, Y_train)\n",
        "Y_pred = model.predict(X_test)\n",
        "accuracy = accuracy_score(Y_test, Y_pred)\n",
        "cm = confusion_matrix(Y_test, Y_pred)\n",
        "print(\"Accuracy= \", accuracy)\n",
        "print(classification_report(Y_test, Y_pred, target_names=le.classes_))\n",
        "length = len(Y_test)\n",
        "TN = 0\n",
        "TP = 0\n",
        "FN = 0\n",
        "FP = 0\n",
        "for i in range (length):\n",
        "  if Y_test[i] == 0 and Y_pred[i] == 1:\n",
        "    FP = FP + 1\n",
        "  elif Y_test[i] == 1 and Y_pred[i] == 0:\n",
        "    FN = FN + 1\n",
        "  elif Y_test[i] == 1 and Y_pred[i] == 1:\n",
        "    TP = TP + 1\n",
        "  elif Y_test[i] == 0 and Y_pred[i] == 0:\n",
        "    TN = TN + 1\n",
        "print(\"TP= \", TP)\n",
        "print(\"TN= \", TN)\n",
        "print(\"FP= \", FP)\n",
        "print(\"FN= \", FN)"
      ]
    }
  ]
}