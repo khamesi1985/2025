{
  "nbformat": 4,
  "nbformat_minor": 0,
  "metadata": {
    "colab": {
      "provenance": [],
      "authorship_tag": "ABX9TyOcw9thiRCR0yvgZvFEdkH5",
      "include_colab_link": true
    },
    "kernelspec": {
      "name": "python3",
      "display_name": "Python 3"
    },
    "language_info": {
      "name": "python"
    }
  },
  "cells": [
    {
      "cell_type": "markdown",
      "metadata": {
        "id": "view-in-github",
        "colab_type": "text"
      },
      "source": [
        "<a href=\"https://colab.research.google.com/github/khamesi1985/2025/blob/main/SVM_for_WDBC.ipynb\" target=\"_parent\"><img src=\"https://colab.research.google.com/assets/colab-badge.svg\" alt=\"Open In Colab\"/></a>"
      ]
    },
    {
      "cell_type": "code",
      "execution_count": 2,
      "metadata": {
        "colab": {
          "base_uri": "https://localhost:8080/"
        },
        "id": "h4kGXNK91cC1",
        "outputId": "1d80f28f-f80f-4eec-ad01-5d790cf14bd4"
      },
      "outputs": [
        {
          "output_type": "stream",
          "name": "stdout",
          "text": [
            "Accuracy On Train Data =  0.989648033126294\n",
            "Precision On Train Data =  1.0\n",
            "Recall On Train Data =  0.9722222222222222\n",
            "F1-Score On Train Data =  0.9859154929577465\n",
            "TP On Train Data =  175\n",
            "TN On Train Data =  303\n",
            "FP On Train Data =  0\n",
            "FN On Train Data =  5\n",
            "              precision    recall  f1-score   support\n",
            "\n",
            "           B       0.98      1.00      0.99       303\n",
            "           M       1.00      0.97      0.99       180\n",
            "\n",
            "    accuracy                           0.99       483\n",
            "   macro avg       0.99      0.99      0.99       483\n",
            "weighted avg       0.99      0.99      0.99       483\n",
            "\n",
            "Accuracy On Test Data =  0.9767441860465116\n",
            "Precision On Test Data =  1.0\n",
            "Recall On Test Data =  0.9375\n",
            "F1-Score On Test Data =  0.967741935483871\n",
            "TP On Test Data =  30\n",
            "TN On Test Data =  54\n",
            "FP On Test Data =  0\n",
            "FN On Test Data =  2\n",
            "              precision    recall  f1-score   support\n",
            "\n",
            "           B       0.96      1.00      0.98        54\n",
            "           M       1.00      0.94      0.97        32\n",
            "\n",
            "    accuracy                           0.98        86\n",
            "   macro avg       0.98      0.97      0.97        86\n",
            "weighted avg       0.98      0.98      0.98        86\n",
            "\n"
          ]
        }
      ],
      "source": [
        "import pandas as pd\n",
        "from sklearn.preprocessing import LabelEncoder, StandardScaler\n",
        "from sklearn.model_selection import train_test_split\n",
        "from sklearn.svm import SVC\n",
        "from sklearn.metrics import accuracy_score, precision_score, recall_score, f1_score, classification_report\n",
        "\n",
        "# بارگذاری داده‌ها\n",
        "url = \"https://raw.githubusercontent.com/khamesi1985/2025/main/wdbc.data\"\n",
        "data = pd.read_csv(url, header=None)\n",
        "X = data.iloc[:, 2:32]\n",
        "Pre_Y = data.iloc[:, 1]\n",
        "make_bin = LabelEncoder()\n",
        "make_bin.fit(Pre_Y)\n",
        "Y = make_bin.transform(Pre_Y)\n",
        "\n",
        "# تقسیم داده‌ها به آموزش و آزمون\n",
        "X_train, X_test, Y_train, Y_test = train_test_split(X, Y, test_size=0.15, random_state=42)\n",
        "\n",
        "# استاندارد سازی داده ها\n",
        "scaler = StandardScaler()\n",
        "scaler.fit(X_train)\n",
        "X_train_scaled = scaler.transform(X_train)\n",
        "X_test_scaled = scaler.transform(X_test)\n",
        "\n",
        "# پیاده سازی مدل\n",
        "model = SVC(kernel='rbf')\n",
        "model.fit(X_train_scaled, Y_train)\n",
        "Y_pred_train = model.predict(X_train_scaled)\n",
        "Y_pred_test = model.predict(X_test_scaled)\n",
        "\n",
        "# محاسبه دقت مدل\n",
        "accuracy_train = accuracy_score(Y_train, Y_pred_train)\n",
        "precision_train = precision_score(Y_train, Y_pred_train)\n",
        "recall_train = recall_score(Y_train, Y_pred_train)\n",
        "f1_score_train = f1_score(Y_train, Y_pred_train)\n",
        "accuracy_test = accuracy_score(Y_test, Y_pred_test)\n",
        "precision_test = precision_score(Y_test, Y_pred_test)\n",
        "recall_test = recall_score(Y_test, Y_pred_test)\n",
        "f1_score_test = f1_score(Y_test, Y_pred_test)\n",
        "print(\"Accuracy On Train Data = \", accuracy_train)\n",
        "print(\"Precision On Train Data = \", precision_train)\n",
        "print(\"Recall On Train Data = \", recall_train)\n",
        "print(\"F1-Score On Train Data = \", f1_score_train)\n",
        "len_train = len(Y_train)\n",
        "TN = TP = FN = FP = 0\n",
        "for i in range (len_train):\n",
        "  if Y_train[i] == 0 and Y_pred_train[i] == 1:\n",
        "    FP = FP + 1\n",
        "  elif Y_train[i] == 1 and Y_pred_train[i] == 0:\n",
        "    FN = FN + 1\n",
        "  elif Y_train[i] == 1 and Y_pred_train[i] == 1:\n",
        "    TP = TP + 1\n",
        "  elif Y_train[i] == 0 and Y_pred_train[i] == 0:\n",
        "    TN = TN + 1\n",
        "print(\"TP On Train Data = \", TP)\n",
        "print(\"TN On Train Data = \", TN)\n",
        "print(\"FP On Train Data = \", FP)\n",
        "print(\"FN On Train Data = \", FN)\n",
        "print(classification_report(Y_train, Y_pred_train, target_names=make_bin.classes_))\n",
        "print(\"Accuracy On Test Data = \", accuracy_test)\n",
        "print(\"Precision On Test Data = \", precision_test)\n",
        "print(\"Recall On Test Data = \", recall_test)\n",
        "print(\"F1-Score On Test Data = \", f1_score_test)\n",
        "len_test = len(Y_test)\n",
        "TN = TP = FN = FP = 0\n",
        "for i in range (len_test):\n",
        "  if Y_test[i] == 0 and Y_pred_test[i] == 1:\n",
        "    FP = FP + 1\n",
        "  elif Y_test[i] == 1 and Y_pred_test[i] == 0:\n",
        "    FN = FN + 1\n",
        "  elif Y_test[i] == 1 and Y_pred_test[i] == 1:\n",
        "    TP = TP + 1\n",
        "  elif Y_test[i] == 0 and Y_pred_test[i] == 0:\n",
        "    TN = TN + 1\n",
        "print(\"TP On Test Data = \", TP)\n",
        "print(\"TN On Test Data = \", TN)\n",
        "print(\"FP On Test Data = \", FP)\n",
        "print(\"FN On Test Data = \", FN)\n",
        "print(classification_report(Y_test, Y_pred_test, target_names=make_bin.classes_))"
      ]
    }
  ]
}