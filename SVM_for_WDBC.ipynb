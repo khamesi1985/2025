{
  "nbformat": 4,
  "nbformat_minor": 0,
  "metadata": {
    "colab": {
      "provenance": [],
      "toc_visible": true,
      "authorship_tag": "ABX9TyP+c3ikLIT1MrX9goxsz/VY",
      "include_colab_link": true
    },
    "kernelspec": {
      "name": "python3",
      "display_name": "Python 3"
    },
    "language_info": {
      "name": "python"
    }
  },
  "cells": [
    {
      "cell_type": "markdown",
      "metadata": {
        "id": "view-in-github",
        "colab_type": "text"
      },
      "source": [
        "<a href=\"https://colab.research.google.com/github/khamesi1985/2025/blob/main/SVM_for_WDBC.ipynb\" target=\"_parent\"><img src=\"https://colab.research.google.com/assets/colab-badge.svg\" alt=\"Open In Colab\"/></a>"
      ]
    },
    {
      "cell_type": "code",
      "execution_count": 55,
      "metadata": {
        "colab": {
          "base_uri": "https://localhost:8080/"
        },
        "id": "h4kGXNK91cC1",
        "outputId": "5d33fab6-fa62-486d-d553-8443d2b43c56"
      },
      "outputs": [
        {
          "output_type": "stream",
          "name": "stdout",
          "text": [
            "Accuracy=  0.9767441860465116\n",
            "              precision    recall  f1-score   support\n",
            "\n",
            "           B       0.96      1.00      0.98        54\n",
            "           M       1.00      0.94      0.97        32\n",
            "\n",
            "    accuracy                           0.98        86\n",
            "   macro avg       0.98      0.97      0.97        86\n",
            "weighted avg       0.98      0.98      0.98        86\n",
            "\n",
            "TP=  30\n",
            "TN=  54\n",
            "FP=  0\n",
            "FN=  2\n"
          ]
        }
      ],
      "source": [
        "import pandas as pd\n",
        "from sklearn.preprocessing import LabelEncoder, StandardScaler\n",
        "from sklearn.model_selection import train_test_split\n",
        "from sklearn.svm import SVC\n",
        "from sklearn.metrics import accuracy_score, classification_report\n",
        "\n",
        "# بارگذاری داده‌ها\n",
        "url = \"https://raw.githubusercontent.com/khamesi1985/2025/main/wdbc.data\"\n",
        "data = pd.read_csv(url, header=None)\n",
        "X = data.iloc[:, 2:32]\n",
        "Pre_Y = data.iloc[:, 1]\n",
        "make_bin = LabelEncoder()\n",
        "Y = make_bin.fit_transform(Pre_Y)\n",
        "\n",
        "# تقسیم داده‌ها به آموزش و آزمون\n",
        "X_train, X_test, Y_train, Y_test = train_test_split(X, Y, test_size=0.15, random_state=42)\n",
        "\n",
        "# استاندارد سازی داده ها\n",
        "scaler = StandardScaler()\n",
        "scaler.fit(X_train)\n",
        "X_train_scaled = scaler.transform(X_train)\n",
        "X_test_scaled = scaler.transform(X_test)\n",
        "\n",
        "# پیاده سازی مدل\n",
        "model = SVC(kernel='rbf')\n",
        "model.fit(X_train_scaled, Y_train)\n",
        "Y_pred = model.predict(X_test_scaled)\n",
        "\n",
        "# محاسبه دقت مدل\n",
        "accuracy = accuracy_score(Y_test, Y_pred)\n",
        "print(\"Accuracy= \", accuracy)\n",
        "print(classification_report(Y_test, Y_pred, target_names=make_bin.classes_))\n",
        "length = len(Y_test)\n",
        "TN = 0\n",
        "TP = 0\n",
        "FN = 0\n",
        "FP = 0\n",
        "for i in range (length):\n",
        "  if Y_test[i] == 0 and Y_pred[i] == 1:\n",
        "    FP = FP + 1\n",
        "  elif Y_test[i] == 1 and Y_pred[i] == 0:\n",
        "    FN = FN + 1\n",
        "  elif Y_test[i] == 1 and Y_pred[i] == 1:\n",
        "    TP = TP + 1\n",
        "  elif Y_test[i] == 0 and Y_pred[i] == 0:\n",
        "    TN = TN + 1\n",
        "print(\"TP= \", TP)\n",
        "print(\"TN= \", TN)\n",
        "print(\"FP= \", FP)\n",
        "print(\"FN= \", FN)"
      ]
    }
  ]
}